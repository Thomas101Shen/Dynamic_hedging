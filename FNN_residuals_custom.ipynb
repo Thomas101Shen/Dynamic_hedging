{
 "cells": [
  {
   "cell_type": "code",
   "execution_count": 2,
   "id": "4b2f462d-3727-4c5f-bfc0-96c92b19e72b",
   "metadata": {},
   "outputs": [],
   "source": [
    "import numpy as np\n",
    "import pandas as pd\n",
    "import seaborn as sns\n",
    "import math\n",
    "import datetime\n",
    "import torch\n",
    "import matplotlib.pyplot as plt\n",
    "\n",
    "from sklearn.model_selection import train_test_split\n",
    "from sklearn.preprocessing import MinMaxScaler\n",
    "\n",
    "%matplotlib inline"
   ]
  },
  {
   "cell_type": "code",
   "execution_count": 3,
   "id": "b507c5e0-b6c1-4bd5-9c5c-371e1a8a515e",
   "metadata": {},
   "outputs": [
    {
     "name": "stdout",
     "output_type": "stream",
     "text": [
      "(50, 14)\n",
      "(50, 14)\n",
      "         Date  ID  Days until next hedge        S  Dividend        C_BS  \\\n",
      "0  2024-10-09   1                      1  5792.04    1.3255  347.319191   \n",
      "1  2024-08-12   3                      1  5344.39    1.4375   65.911689   \n",
      "2  2024-08-05   5                      1  5186.33    1.4816   29.540325   \n",
      "3  2024-11-15   1                      3  5870.62    1.3163  351.552064   \n",
      "4  2024-09-17   6                      1  5634.58    1.3645   46.314393   \n",
      "\n",
      "       D_BS   C_mkt  D_Blm        R  TTM  Moneyness  D_Optimal    Target  \n",
      "0  0.630024  357.80  0.642  4.78852  163      92.04   0.385249 -0.244775  \n",
      "1  0.227086   74.05  0.247  4.96403  221    -555.61   0.228776  0.001690  \n",
      "2  0.111161   38.45  0.132  4.95853  228    -913.67  -0.159851 -0.271012  \n",
      "3  0.685499  370.40  0.710  4.77039  126     170.62   0.377866 -0.307633  \n",
      "4  0.185447   54.15  0.208  4.76338  185    -565.42   0.160314 -0.025133  \n",
      "\n",
      "\n",
      "Features:\n",
      "         Moneyness         TTM       D_BS\n",
      "count   50.000000   50.000000  50.000000\n",
      "mean  -174.217800  123.900000   0.426483\n",
      "std    280.688017   59.009944   0.207186\n",
      "min   -913.670000   18.000000   0.077941\n",
      "25%   -381.125000   91.500000   0.255427\n",
      "50%   -155.705000  126.500000   0.448373\n",
      "75%     48.320000  164.500000   0.635672\n",
      "max    332.380000  228.000000   0.792605 \n",
      "\n",
      "\n",
      " Test data:\n",
      "           Target\n",
      "count  50.000000\n",
      "mean   -0.499910\n",
      "std     3.448409\n",
      "min   -20.186809\n",
      "25%    -0.186624\n",
      "50%    -0.031119\n",
      "75%     0.113140\n",
      "max     5.332851\n"
     ]
    }
   ],
   "source": [
    "url = 'https://raw.githubusercontent.com/Thomas101Shen/Dynamic_hedging/refs/heads/main/Option_SPX.csv'\n",
    "data = pd.read_csv(url)\n",
    "data = data.iloc[0:50]\n",
    "\n",
    "print(data.shape)\n",
    "data.dropna(inplace=True)\n",
    "print(data.shape)\n",
    "print(data.head())\n",
    "\n",
    "X = data[['Moneyness', 'TTM', 'D_BS']]\n",
    "y = data[['Target']]\n",
    "\n",
    "print(f'\\n\\nFeatures:\\n {X.describe()} \\n\\n\\n Test data:\\n {y.describe()}')"
   ]
  },
  {
   "cell_type": "code",
   "execution_count": 5,
   "id": "177ce6f1-1224-4367-b93e-19ab86d35fb3",
   "metadata": {},
   "outputs": [],
   "source": [
    "X_train_val, X_test, y_train_val, y_test = train_test_split(X, y, test_size=0.2, random_state=42, shuffle=True)\n",
    "# print(type(y_train_val))"
   ]
  },
  {
   "cell_type": "code",
   "execution_count": 6,
   "id": "994726cc-00d8-4e73-8ad2-592d2ca0b715",
   "metadata": {},
   "outputs": [],
   "source": [
    "X_train, X_val, y_train, y_val = train_test_split(X_train_val, y_train_val, test_size=0.2, random_state=42, shuffle=True)"
   ]
  },
  {
   "cell_type": "code",
   "execution_count": 1,
   "id": "c135f478-75c6-4419-85a2-6d1a78d93a17",
   "metadata": {},
   "outputs": [
    {
     "ename": "NameError",
     "evalue": "name 'MinMaxScaler' is not defined",
     "output_type": "error",
     "traceback": [
      "\u001b[0;31m---------------------------------------------------------------------------\u001b[0m",
      "\u001b[0;31mNameError\u001b[0m                                 Traceback (most recent call last)",
      "Cell \u001b[0;32mIn[1], line 1\u001b[0m\n\u001b[0;32m----> 1\u001b[0m scaler \u001b[38;5;241m=\u001b[39m \u001b[43mMinMaxScaler\u001b[49m()\n\u001b[1;32m      4\u001b[0m scaler\u001b[38;5;241m.\u001b[39mfit(X)\n\u001b[1;32m      5\u001b[0m X_train \u001b[38;5;241m=\u001b[39m scaler\u001b[38;5;241m.\u001b[39mtransform(X_train)\n",
      "\u001b[0;31mNameError\u001b[0m: name 'MinMaxScaler' is not defined"
     ]
    }
   ],
   "source": [
    "scaler = MinMaxScaler()\n",
    "\n",
    "\n",
    "scaler.fit(X)\n",
    "X_train = scaler.transform(X_train)\n",
    "X_val = scaler.transform(X_val)\n",
    "X_test = scaler.transform(X_test)\n",
    "\n",
    "feat_cols = ['Moneyness', 'TTM', 'D_BS']\n",
    "\n",
    "X_train = pd.DataFrame(X_train, columns=feat_cols)\n",
    "X_test = pd.DataFrame(X_test, columns=feat_cols)\n",
    "X_val = pd.DataFrame(X_val, columns=feat_cols)"
   ]
  },
  {
   "cell_type": "code",
   "execution_count": 11,
   "id": "6bf938e3-b345-4023-8557-4e00bb384a7e",
   "metadata": {},
   "outputs": [],
   "source": [
    "import torch.nn as nn\n",
    "import torch.optim as optim\n",
    "\n",
    "\n",
    "class FNN(nn.Module):\n",
    "    def __init__(self, input_size, hidden_size, output_size):\n",
    "        super(FNN, self).__init__()\n",
    "        self.hidden = nn.Linear(input_size, hidden_size)\n",
    "        self.activation = nn.ReLU()\n",
    "        self.output = nn.Linear(hidden_size, output_size)\n",
    "\n",
    "    def forward(self, x):\n",
    "        x = self.hidden(x)\n",
    "        x = self.activation(x)\n",
    "        x = self.output(x)\n",
    "        return x\n",
    "\n",
    "\n",
    "input_size = 3\n",
    "hidden_size = 6\n",
    "output_size = 1"
   ]
  },
  {
   "cell_type": "code",
   "execution_count": 12,
   "id": "b45490dd-d624-4a79-8049-d000f70a1e6f",
   "metadata": {},
   "outputs": [],
   "source": [
    "X_train = torch.tensor(X_train.values, dtype=torch.float)\n",
    "X_test = torch.tensor(X_test.values, dtype=torch.float)\n",
    "X_val = torch.tensor(X_val.values, dtype=torch.float)\n",
    "\n",
    "y_train = torch.tensor(y_train.values, dtype=torch.float)\n",
    "y_test = torch.tensor(y_test.values, dtype=torch.float)\n",
    "y_val = torch.tensor(y_val.values, dtype=torch.float)"
   ]
  },
  {
   "cell_type": "code",
   "execution_count": 2,
   "id": "1842b750-e2ed-4cde-9663-49b69e0ae811",
   "metadata": {},
   "outputs": [
    {
     "ename": "NameError",
     "evalue": "name 'data' is not defined",
     "output_type": "error",
     "traceback": [
      "\u001b[0;31m---------------------------------------------------------------------------\u001b[0m",
      "\u001b[0;31mNameError\u001b[0m                                 Traceback (most recent call last)",
      "Cell \u001b[0;32mIn[2], line 1\u001b[0m\n\u001b[0;32m----> 1\u001b[0m loss_metrics \u001b[38;5;241m=\u001b[39m \u001b[43mdata\u001b[49m[[\u001b[38;5;124m'\u001b[39m\u001b[38;5;124mC_BS\u001b[39m\u001b[38;5;124m'\u001b[39m, \u001b[38;5;124m'\u001b[39m\u001b[38;5;124mC_mkt\u001b[39m\u001b[38;5;124m'\u001b[39m, \u001b[38;5;124m'\u001b[39m\u001b[38;5;124mD_BS\u001b[39m\u001b[38;5;124m'\u001b[39m, \u001b[38;5;124m'\u001b[39m\u001b[38;5;124mS\u001b[39m\u001b[38;5;124m'\u001b[39m]]\n\u001b[1;32m      3\u001b[0m c_bs \u001b[38;5;241m=\u001b[39m loss_metrics[\u001b[38;5;124m'\u001b[39m\u001b[38;5;124mC_BS\u001b[39m\u001b[38;5;124m'\u001b[39m]\n\u001b[1;32m      4\u001b[0m c_mkt \u001b[38;5;241m=\u001b[39m loss_metrics[\u001b[38;5;124m'\u001b[39m\u001b[38;5;124mC_mkt\u001b[39m\u001b[38;5;124m'\u001b[39m]\u001b[38;5;241m.\u001b[39mdiff()\u001b[38;5;241m.\u001b[39mdropna(inplace\u001b[38;5;241m=\u001b[39m\u001b[38;5;28;01mTrue\u001b[39;00m)\n",
      "\u001b[0;31mNameError\u001b[0m: name 'data' is not defined"
     ]
    }
   ],
   "source": [
    "loss_metrics = data[['C_BS', 'C_mkt', 'D_BS', 'S']]\n",
    "\n",
    "c_bs = loss_metrics['C_BS']\n",
    "c_mkt = loss_metrics['C_mkt'].diff().dropna(inplace=True)\n",
    "d_bs = loss_metrics['D_BS']\n",
    "s_mkt = loss_metrics['S'].diff().dropna(inplace=True)"
   ]
  },
  {
   "cell_type": "code",
   "execution_count": 31,
   "id": "2d8ec8cd-4065-470f-b5db-938dc0cc200a",
   "metadata": {},
   "outputs": [
    {
     "name": "stdout",
     "output_type": "stream",
     "text": [
      "0       NaN\n",
      "1   -283.75\n",
      "2    -35.60\n",
      "3    331.95\n",
      "4   -316.25\n",
      "Name: C_mkt, dtype: float64\n"
     ]
    }
   ],
   "source": [
    "print(c_mkt.head())"
   ]
  },
  {
   "cell_type": "code",
   "execution_count": 23,
   "id": "e865e862-0f65-4df7-a7b7-b7d4e01f1d5b",
   "metadata": {},
   "outputs": [],
   "source": [
    "def print_tensor_with_precision(tensor, decimals=8):\n",
    "    \"\"\"Print a PyTorch tensor or float with specified decimal precision.\"\"\"\n",
    "    if isinstance(tensor, float) or tensor.dim() == 0:  # Handle scalar tensors and floats\n",
    "        print(f\"{tensor:.{decimals}f}\")\n",
    "    elif tensor.dim() == 1:  # Handle 1D tensors\n",
    "        formatted_row = [f\"{val:.{decimals}f}, \" for val in tensor.tolist()]\n",
    "        print(\" \".join(formatted_row))\n",
    "    else:  # Handle multi-dimensional tensors\n",
    "        for row in tensor:  \n",
    "            formatted_row = [f\"{val:.{decimals}f}, \" for val in row.tolist()]\n",
    "            print(\" \".join(formatted_row))"
   ]
  },
  {
   "cell_type": "code",
   "execution_count": 24,
   "id": "ae1d5af5-1c77-44ec-882e-33b58e8e4f24",
   "metadata": {},
   "outputs": [],
   "source": [
    "# Now we will create a FNN using the custom loss function\n",
    "class CustomLoss(nn.Module):\n",
    "    def __init__(self):\n",
    "        super(CustomLoss, self).__init__()\n",
    "    \n",
    "    def forward(self, predictions, s_price, o_price, d_bs):\n",
    "        \"\"\"\n",
    "        Args:\n",
    "            predictions (torch.Tensor): Output of the neural network.\n",
    "            s_price (pd.DataSeries): Stock price\n",
    "            o_price (pd.DataSeries)): Option price\n",
    "            d_bs (pd.DataSeries)): Black-Scholes Delta\n",
    "        \n",
    "        Returns:\n",
    "            torch.Tensor: MSE of optimal delta\n",
    "        \"\"\"\n",
    "        # s_price = torch.tensor(s_price, dtype=torch.float32)\n",
    "        # o_price = torch.tensor(o_price, dtype=torch.float32)\n",
    "        d_bs = torch.tensor(d_bs, dtype=torch.float32)\n",
    "        \n",
    "        quotient = o_price / s_price\n",
    "        quotient = torch.tensor(quotient, dtype=torch.float32)\n",
    "        # print(f\"quotient: \\n {print_tensor_with_precision(quotient)}, \\n d_bs: \\n {print_tensor_with_precision(d_bs)}\")\n",
    "        # print(f\"predictions: \\n {print_tensor_with_precision(predictions)}, \\n\")\n",
    "        \n",
    "        difference = quotient - predictions - d_bs\n",
    "        \n",
    "        loss = torch.mean(difference ** 2)\n",
    "        return loss\n",
    "\n",
    "# custom_loss_func = nn.CustomLoss()"
   ]
  },
  {
   "cell_type": "code",
   "execution_count": 25,
   "id": "8438188b-0dfe-4668-8f3b-5e40f9ae074c",
   "metadata": {},
   "outputs": [],
   "source": [
    "# Now we initialise the model (using same Adam optimizer as before  but diff loss function)\n",
    "\n",
    "custom_no_batch = FNN(input_size, hidden_size, output_size)\n",
    "custom_batch = FNN(input_size, hidden_size, output_size)\n",
    "\n",
    "custom_loss = CustomLoss()"
   ]
  },
  {
   "cell_type": "code",
   "execution_count": 26,
   "id": "5fd5f07e-6e42-4b35-9934-93e47138a00e",
   "metadata": {},
   "outputs": [],
   "source": [
    "def train_custom_model(model, epochs, loss_func, optimizer, batch_size=-1):\n",
    "    patience = 5\n",
    "    wait = 0\n",
    "    best_val_loss = float('inf')\n",
    "    for epoch in range(epochs):\n",
    "        model.train()\n",
    "        predictions_train = model(X_train)\n",
    "        loss_train = loss_func(predictions_train, s_mkt, c_mkt, d_bs)\n",
    "    \n",
    "        optimizer.zero_grad()\n",
    "        loss_train.backward()\n",
    "        optimizer.step()\n",
    "    \n",
    "        model.eval()\n",
    "        with torch.no_grad():\n",
    "            predictions_val = model(X_val)\n",
    "            loss_val = loss_func(predictions_val, s_mkt, c_mkt, d_bs)\n",
    "    \n",
    "        # Check for improvement\n",
    "        if loss_val < best_val_loss:\n",
    "            best_val_loss = loss_val\n",
    "            wait = 0\n",
    "        else:\n",
    "            wait += 1\n",
    "            if wait >= patience:\n",
    "                print(\"Early stoppage\")\n",
    "                print(f\"Epoch [{epoch+1}/{epochs}], Training Loss: {loss_train.item():.4f}, Validation Loss: {loss_val.item():.4f}\")\n",
    "                break\n",
    "                \n",
    "        if (epoch + 1) % 5 == 0:\n",
    "            print(f\"Epoch [{epoch+1}/{epochs}], Training Loss: {loss_train.item():.4f}, Validation Loss: {loss_val.item():.4f}\")"
   ]
  },
  {
   "cell_type": "code",
   "execution_count": 27,
   "id": "3e6489df-c1d4-456f-9cf9-378e21cbe07f",
   "metadata": {},
   "outputs": [],
   "source": [
    "# Now we train the models\n",
    "custom_nb_optim = optim.Adam(model.parameters(), lr=0.01)\n",
    "custom_b_optim = optim.Adam(model.parameters(), lr=0.01)\n"
   ]
  },
  {
   "cell_type": "code",
   "execution_count": 28,
   "id": "1d69c591-73c5-4f8e-afcf-68b1caff0d5e",
   "metadata": {},
   "outputs": [
    {
     "name": "stdout",
     "output_type": "stream",
     "text": [
      "Early stoppage\n",
      "Epoch [5/10], Training Loss: nan, Validation Loss: nan\n"
     ]
    }
   ],
   "source": [
    "train_custom_model(custom_no_batch, 10, custom_loss, custom_nb_optim)\n",
    "# train_batch_model(custom_batch, 1000, custom_loss, custom_b_optim, 30)"
   ]
  },
  {
   "cell_type": "code",
   "execution_count": 29,
   "id": "1df219c9-c68a-4731-aec6-b4c5209e435a",
   "metadata": {},
   "outputs": [],
   "source": [
    "# def train_custom_model(model, epochs, loss_func, optimizer, batch_size=-1):\n",
    "#     patience = 5\n",
    "#     wait = 0\n",
    "#     best_val_loss = float('inf')\n",
    "#     for epoch in range(epochs):\n",
    "#         if batch_size == -1:\n",
    "#             model.train()\n",
    "#             predictions_train = model(X_train)\n",
    "#             loss_train = loss_func(predictions_train, y_train)\n",
    "        \n",
    "#             optimizer.zero_grad()\n",
    "#             loss_train.backward()\n",
    "#             optimizer.step()\n",
    "#         else:\n",
    "#             for start in range(0, len(X_train), batch_size):\n",
    "#                 end = start + batch_size\n",
    "#                 X_batch = X_train[start:end]\n",
    "#                 y_batch = y_train[start:end]\n",
    "            \n",
    "#                 # Forward pass\n",
    "#                 predictions_train = model(X_batch)\n",
    "#                 loss_train = loss_func(predictions_train, y_batch)\n",
    "            \n",
    "#                 # Backward pass\n",
    "#                 optimizer.zero_grad()\n",
    "#                 loss_train.backward()\n",
    "#                 optimizer.step()\n",
    "    \n",
    "#         model.eval()\n",
    "#         with torch.no_grad():\n",
    "#             predictions_val = model(X_val)\n",
    "#             loss_val = loss_func(predictions_val, y_val)\n",
    "    \n",
    "#         # Check for improvement\n",
    "#         if loss_val < best_val_loss:\n",
    "#             best_val_loss = loss_val\n",
    "#             wait = 0\n",
    "#         else:\n",
    "#             wait += 1\n",
    "#             if wait >= patience:\n",
    "#                 print(\"Early stoppage\")\n",
    "#                 print(f\"Epoch [{epoch+1}/{epochs}], Training Loss: {loss_train.item():.4f}, Validation Loss: {loss_val.item():.4f}\")\n",
    "#                 break\n",
    "                \n",
    "#         if (epoch + 1) % 5 == 0:\n",
    "#             print(f\"Epoch [{epoch+1}/{epochs}], Training Loss: {loss_train.item():.4f}, Validation Loss: {loss_val.item():.4f}\")"
   ]
  }
 ],
 "metadata": {
  "kernelspec": {
   "display_name": "Python 3 (ipykernel)",
   "language": "python",
   "name": "python3"
  },
  "language_info": {
   "codemirror_mode": {
    "name": "ipython",
    "version": 3
   },
   "file_extension": ".py",
   "mimetype": "text/x-python",
   "name": "python",
   "nbconvert_exporter": "python",
   "pygments_lexer": "ipython3",
   "version": "3.10.16"
  }
 },
 "nbformat": 4,
 "nbformat_minor": 5
}
